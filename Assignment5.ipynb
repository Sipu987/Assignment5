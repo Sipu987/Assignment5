{
 "cells": [
  {
   "cell_type": "code",
   "execution_count": 2,
   "id": "0532d659-e8fb-445b-a030-30059fc85df6",
   "metadata": {},
   "outputs": [],
   "source": [
    "#Q.1 Who developed PPL ?"
   ]
  },
  {
   "cell_type": "code",
   "execution_count": 3,
   "id": "429bd0df-90f7-426d-bd48-3673d81caa6a",
   "metadata": {},
   "outputs": [],
   "source": [
    "# Ans -Guido van Rossum"
   ]
  },
  {
   "cell_type": "code",
   "execution_count": 4,
   "id": "794348d7-0a7b-43f5-821f-f50b372aabba",
   "metadata": {},
   "outputs": [],
   "source": [
    "#Q.2 Which type of programming does python supprt?\n",
    "# Ans - Python support multi paradigm programming language. such as object-oriented, structured, and functional programming"
   ]
  },
  {
   "cell_type": "code",
   "execution_count": 5,
   "id": "eacae2d8-0b49-4b7c-ab9c-9e88ae575f2d",
   "metadata": {},
   "outputs": [],
   "source": [
    "#Q.3 Ans - Yes, Python is case sensitive when dealing with identifier"
   ]
  },
  {
   "cell_type": "code",
   "execution_count": 6,
   "id": "a4dc2fad-cc5e-4275-8641-20025012885e",
   "metadata": {},
   "outputs": [],
   "source": [
    "#Q.4. Ans .py is extensioon of python file"
   ]
  },
  {
   "cell_type": "code",
   "execution_count": 7,
   "id": "405ddc73-bfcd-4fa1-ae4d-8bc730f37237",
   "metadata": {},
   "outputs": [],
   "source": [
    "#Q.5 Ans python codes are interpreted"
   ]
  },
  {
   "cell_type": "code",
   "execution_count": 8,
   "id": "c0b20ccf-d5e2-4736-8563-7fa1dc8ecfa5",
   "metadata": {},
   "outputs": [],
   "source": [
    "# Ans Q.6 function, class are few code to define in python language"
   ]
  },
  {
   "cell_type": "code",
   "execution_count": 10,
   "id": "e3f8f92f-35d5-49ee-a81a-a037b3c1571e",
   "metadata": {},
   "outputs": [],
   "source": [
    "#Ans Q.7 '#' give single line comments"
   ]
  },
  {
   "cell_type": "code",
   "execution_count": 11,
   "id": "674bb294-3479-466f-b0f9-3dcd6af388b9",
   "metadata": {},
   "outputs": [
    {
     "name": "stdout",
     "output_type": "stream",
     "text": [
      "3.10.8 | packaged by conda-forge | (main, Nov 22 2022, 08:26:04) [GCC 10.4.0]\n"
     ]
    }
   ],
   "source": [
    "#Ans Q.8 \n",
    "import sys\n",
    "print(sys.version)"
   ]
  },
  {
   "cell_type": "code",
   "execution_count": 12,
   "id": "a9d0c686-d1c1-446d-8584-3087b341f1c5",
   "metadata": {},
   "outputs": [],
   "source": [
    "#Ans Q.9' Lambda is a construct create anonymus function"
   ]
  },
  {
   "cell_type": "code",
   "execution_count": 13,
   "id": "f16c40b2-34bf-4ba9-8c12-c0f0389c3453",
   "metadata": {},
   "outputs": [],
   "source": [
    "#Ans.Q.10 PIP stands for 'Packages in Python'. Used to install packages"
   ]
  },
  {
   "cell_type": "code",
   "execution_count": 14,
   "id": "75867817-0085-4aaf-92ae-b34d358dead5",
   "metadata": {},
   "outputs": [],
   "source": [
    "#Ans Q.11 Few build in functions are list(), len(), str()...etc"
   ]
  },
  {
   "cell_type": "code",
   "execution_count": 15,
   "id": "7e56f245-7743-41bf-bb40-9fa4c3ee03db",
   "metadata": {},
   "outputs": [],
   "source": [
    "#Ans Q.12 Maximum length of identifier is 79"
   ]
  },
  {
   "cell_type": "code",
   "execution_count": 17,
   "id": "6a9e4d3e-c8e5-4fe2-8467-759143f64107",
   "metadata": {},
   "outputs": [],
   "source": [
    "#Ans Q.13. Benefit of pytho,,\n",
    "#i. Easy to learn\n",
    "#ii. Easy to use \n",
    "#iii. Vast pacakages\n",
    "#iv. Hudge community"
   ]
  },
  {
   "cell_type": "code",
   "execution_count": 19,
   "id": "f21b984a-9cde-45b9-be08-836571147a84",
   "metadata": {},
   "outputs": [],
   "source": [
    "#Ans Q.14. Memory managed in python...???????????"
   ]
  },
  {
   "cell_type": "code",
   "execution_count": 20,
   "id": "57d90c0c-e6f6-40b6-a13a-a0a652cdd689",
   "metadata": {},
   "outputs": [],
   "source": [
    "#Ans 15.  Down load python .. right click--run--python will be installed\n",
    "# Right click my computer...click properties..Adv sysytem setting ...Enviromrnt Varriable -- \n",
    "#New.. Paste python Drive path--click Ok and save"
   ]
  },
  {
   "cell_type": "code",
   "execution_count": null,
   "id": "730f2768-ddb5-434b-887d-f9cbb674821c",
   "metadata": {},
   "outputs": [],
   "source": [
    "#Ans 16. Yes, identation required on Python"
   ]
  }
 ],
 "metadata": {
  "kernelspec": {
   "display_name": "Python 3 (ipykernel)",
   "language": "python",
   "name": "python3"
  },
  "language_info": {
   "codemirror_mode": {
    "name": "ipython",
    "version": 3
   },
   "file_extension": ".py",
   "mimetype": "text/x-python",
   "name": "python",
   "nbconvert_exporter": "python",
   "pygments_lexer": "ipython3",
   "version": "3.10.8"
  }
 },
 "nbformat": 4,
 "nbformat_minor": 5
}
